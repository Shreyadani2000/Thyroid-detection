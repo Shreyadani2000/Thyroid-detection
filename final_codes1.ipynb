{
  "nbformat": 4,
  "nbformat_minor": 0,
  "metadata": {
    "colab": {
      "provenance": []
    },
    "kernelspec": {
      "name": "python3",
      "display_name": "Python 3"
    },
    "language_info": {
      "name": "python"
    }
  },
  "cells": [
    {
      "cell_type": "code",
      "execution_count": null,
      "metadata": {
        "id": "PZVFUT7a_Zny"
      },
      "outputs": [],
      "source": [
        "import pandas as pd\n",
        "import numpy as np\n",
        "import matplotlib.pyplot as plt\n",
        "import seaborn as sns\n",
        "%matplotlib inline\n",
        "from sklearn.metrics import confusion_matrix\n",
        "from sklearn.svm import SVC\n",
        "from sklearn.neighbors import KNeighborsClassifier\n",
        "from sklearn.tree import DecisionTreeClassifier\n",
        "from sklearn.ensemble import RandomForestClassifier\n",
        "import pickle\n",
        "from sklearn.utils import resample"
      ]
    },
    {
      "cell_type": "code",
      "source": [
        "data = pd.read_csv('thyroid_data.csv')\n",
        "mapping = {'negative': 1, 'sick': 2, 'hyperthyroid': 3,'hypothyroid':4}\n",
        "data"
      ],
      "metadata": {
        "colab": {
          "base_uri": "https://localhost:8080/",
          "height": 478
        },
        "id": "1159B1de_iVJ",
        "outputId": "9ffd674b-adef-413c-cd5f-bd4ad196da96"
      },
      "execution_count": null,
      "outputs": [
        {
          "output_type": "execute_result",
          "data": {
            "text/plain": [
              "      S.no Age Sex On Thyroxine Query on Thyroxine On Antithyroid Medication  \\\n",
              "0        0  41   F            f                  f                         f   \n",
              "1        1  23   F            f                  f                         f   \n",
              "2        2  46   M            f                  f                         f   \n",
              "3        3  70   F            t                  f                         f   \n",
              "4        4  70   F            f                  f                         f   \n",
              "...    ...  ..  ..          ...                ...                       ...   \n",
              "3216  2774  82   M            f                  f                         f   \n",
              "3217  2776  79   M            f                  f                         f   \n",
              "3218  2782  50   F            f                  f                         f   \n",
              "3219  2786  73   ?            f                  f                         f   \n",
              "3220  2796  73   M            f                  t                         f   \n",
              "\n",
              "     Sick Pregnant Thyroid Surgery I131 Treatment  ...    TSH T3 Measured  \\\n",
              "0       f        f               f              f  ...    1.3           t   \n",
              "1       f        f               f              f  ...    4.1           t   \n",
              "2       f        f               f              f  ...   0.98           f   \n",
              "3       f        f               f              f  ...   0.16           t   \n",
              "4       f        f               f              f  ...   0.72           t   \n",
              "...   ...      ...             ...            ...  ...    ...         ...   \n",
              "3216    f        f               f              f  ...    2.2           t   \n",
              "3217    f        f               f              f  ...    1.1           t   \n",
              "3218    f        f               f              f  ...    4.8           t   \n",
              "3219    f        f               f              f  ...  0.015           t   \n",
              "3220    f        f               f              f  ...      ?           t   \n",
              "\n",
              "       T3 TT4 Measured  TT4 T4U Measured   T4U FTI Measured  FTI  Category  \n",
              "0     2.5            t  125            t  1.14            t  109  negative  \n",
              "1       2            t  102            f     ?            f    ?  negative  \n",
              "2       ?            t  109            t  0.91            t  120  negative  \n",
              "3     1.9            t  175            f     ?            f    ?  negative  \n",
              "4     1.2            t   61            t  0.87            t   70  negative  \n",
              "...   ...          ...  ...          ...   ...          ...  ...       ...  \n",
              "3216    1            t   68            t  0.77            t   88      sick  \n",
              "3217  0.7            t  116            t  0.85            t  137      sick  \n",
              "3218  0.6            t   98            t   0.8            t  122      sick  \n",
              "3219  1.8            t  173            t     1            t  173      sick  \n",
              "3220  0.7            t   63            t  0.88            t   72      sick  \n",
              "\n",
              "[3221 rows x 28 columns]"
            ],
            "text/html": [
              "\n",
              "  <div id=\"df-6c505dab-88d0-4880-be77-35a53af4138c\" class=\"colab-df-container\">\n",
              "    <div>\n",
              "<style scoped>\n",
              "    .dataframe tbody tr th:only-of-type {\n",
              "        vertical-align: middle;\n",
              "    }\n",
              "\n",
              "    .dataframe tbody tr th {\n",
              "        vertical-align: top;\n",
              "    }\n",
              "\n",
              "    .dataframe thead th {\n",
              "        text-align: right;\n",
              "    }\n",
              "</style>\n",
              "<table border=\"1\" class=\"dataframe\">\n",
              "  <thead>\n",
              "    <tr style=\"text-align: right;\">\n",
              "      <th></th>\n",
              "      <th>S.no</th>\n",
              "      <th>Age</th>\n",
              "      <th>Sex</th>\n",
              "      <th>On Thyroxine</th>\n",
              "      <th>Query on Thyroxine</th>\n",
              "      <th>On Antithyroid Medication</th>\n",
              "      <th>Sick</th>\n",
              "      <th>Pregnant</th>\n",
              "      <th>Thyroid Surgery</th>\n",
              "      <th>I131 Treatment</th>\n",
              "      <th>...</th>\n",
              "      <th>TSH</th>\n",
              "      <th>T3 Measured</th>\n",
              "      <th>T3</th>\n",
              "      <th>TT4 Measured</th>\n",
              "      <th>TT4</th>\n",
              "      <th>T4U Measured</th>\n",
              "      <th>T4U</th>\n",
              "      <th>FTI Measured</th>\n",
              "      <th>FTI</th>\n",
              "      <th>Category</th>\n",
              "    </tr>\n",
              "  </thead>\n",
              "  <tbody>\n",
              "    <tr>\n",
              "      <th>0</th>\n",
              "      <td>0</td>\n",
              "      <td>41</td>\n",
              "      <td>F</td>\n",
              "      <td>f</td>\n",
              "      <td>f</td>\n",
              "      <td>f</td>\n",
              "      <td>f</td>\n",
              "      <td>f</td>\n",
              "      <td>f</td>\n",
              "      <td>f</td>\n",
              "      <td>...</td>\n",
              "      <td>1.3</td>\n",
              "      <td>t</td>\n",
              "      <td>2.5</td>\n",
              "      <td>t</td>\n",
              "      <td>125</td>\n",
              "      <td>t</td>\n",
              "      <td>1.14</td>\n",
              "      <td>t</td>\n",
              "      <td>109</td>\n",
              "      <td>negative</td>\n",
              "    </tr>\n",
              "    <tr>\n",
              "      <th>1</th>\n",
              "      <td>1</td>\n",
              "      <td>23</td>\n",
              "      <td>F</td>\n",
              "      <td>f</td>\n",
              "      <td>f</td>\n",
              "      <td>f</td>\n",
              "      <td>f</td>\n",
              "      <td>f</td>\n",
              "      <td>f</td>\n",
              "      <td>f</td>\n",
              "      <td>...</td>\n",
              "      <td>4.1</td>\n",
              "      <td>t</td>\n",
              "      <td>2</td>\n",
              "      <td>t</td>\n",
              "      <td>102</td>\n",
              "      <td>f</td>\n",
              "      <td>?</td>\n",
              "      <td>f</td>\n",
              "      <td>?</td>\n",
              "      <td>negative</td>\n",
              "    </tr>\n",
              "    <tr>\n",
              "      <th>2</th>\n",
              "      <td>2</td>\n",
              "      <td>46</td>\n",
              "      <td>M</td>\n",
              "      <td>f</td>\n",
              "      <td>f</td>\n",
              "      <td>f</td>\n",
              "      <td>f</td>\n",
              "      <td>f</td>\n",
              "      <td>f</td>\n",
              "      <td>f</td>\n",
              "      <td>...</td>\n",
              "      <td>0.98</td>\n",
              "      <td>f</td>\n",
              "      <td>?</td>\n",
              "      <td>t</td>\n",
              "      <td>109</td>\n",
              "      <td>t</td>\n",
              "      <td>0.91</td>\n",
              "      <td>t</td>\n",
              "      <td>120</td>\n",
              "      <td>negative</td>\n",
              "    </tr>\n",
              "    <tr>\n",
              "      <th>3</th>\n",
              "      <td>3</td>\n",
              "      <td>70</td>\n",
              "      <td>F</td>\n",
              "      <td>t</td>\n",
              "      <td>f</td>\n",
              "      <td>f</td>\n",
              "      <td>f</td>\n",
              "      <td>f</td>\n",
              "      <td>f</td>\n",
              "      <td>f</td>\n",
              "      <td>...</td>\n",
              "      <td>0.16</td>\n",
              "      <td>t</td>\n",
              "      <td>1.9</td>\n",
              "      <td>t</td>\n",
              "      <td>175</td>\n",
              "      <td>f</td>\n",
              "      <td>?</td>\n",
              "      <td>f</td>\n",
              "      <td>?</td>\n",
              "      <td>negative</td>\n",
              "    </tr>\n",
              "    <tr>\n",
              "      <th>4</th>\n",
              "      <td>4</td>\n",
              "      <td>70</td>\n",
              "      <td>F</td>\n",
              "      <td>f</td>\n",
              "      <td>f</td>\n",
              "      <td>f</td>\n",
              "      <td>f</td>\n",
              "      <td>f</td>\n",
              "      <td>f</td>\n",
              "      <td>f</td>\n",
              "      <td>...</td>\n",
              "      <td>0.72</td>\n",
              "      <td>t</td>\n",
              "      <td>1.2</td>\n",
              "      <td>t</td>\n",
              "      <td>61</td>\n",
              "      <td>t</td>\n",
              "      <td>0.87</td>\n",
              "      <td>t</td>\n",
              "      <td>70</td>\n",
              "      <td>negative</td>\n",
              "    </tr>\n",
              "    <tr>\n",
              "      <th>...</th>\n",
              "      <td>...</td>\n",
              "      <td>...</td>\n",
              "      <td>...</td>\n",
              "      <td>...</td>\n",
              "      <td>...</td>\n",
              "      <td>...</td>\n",
              "      <td>...</td>\n",
              "      <td>...</td>\n",
              "      <td>...</td>\n",
              "      <td>...</td>\n",
              "      <td>...</td>\n",
              "      <td>...</td>\n",
              "      <td>...</td>\n",
              "      <td>...</td>\n",
              "      <td>...</td>\n",
              "      <td>...</td>\n",
              "      <td>...</td>\n",
              "      <td>...</td>\n",
              "      <td>...</td>\n",
              "      <td>...</td>\n",
              "      <td>...</td>\n",
              "    </tr>\n",
              "    <tr>\n",
              "      <th>3216</th>\n",
              "      <td>2774</td>\n",
              "      <td>82</td>\n",
              "      <td>M</td>\n",
              "      <td>f</td>\n",
              "      <td>f</td>\n",
              "      <td>f</td>\n",
              "      <td>f</td>\n",
              "      <td>f</td>\n",
              "      <td>f</td>\n",
              "      <td>f</td>\n",
              "      <td>...</td>\n",
              "      <td>2.2</td>\n",
              "      <td>t</td>\n",
              "      <td>1</td>\n",
              "      <td>t</td>\n",
              "      <td>68</td>\n",
              "      <td>t</td>\n",
              "      <td>0.77</td>\n",
              "      <td>t</td>\n",
              "      <td>88</td>\n",
              "      <td>sick</td>\n",
              "    </tr>\n",
              "    <tr>\n",
              "      <th>3217</th>\n",
              "      <td>2776</td>\n",
              "      <td>79</td>\n",
              "      <td>M</td>\n",
              "      <td>f</td>\n",
              "      <td>f</td>\n",
              "      <td>f</td>\n",
              "      <td>f</td>\n",
              "      <td>f</td>\n",
              "      <td>f</td>\n",
              "      <td>f</td>\n",
              "      <td>...</td>\n",
              "      <td>1.1</td>\n",
              "      <td>t</td>\n",
              "      <td>0.7</td>\n",
              "      <td>t</td>\n",
              "      <td>116</td>\n",
              "      <td>t</td>\n",
              "      <td>0.85</td>\n",
              "      <td>t</td>\n",
              "      <td>137</td>\n",
              "      <td>sick</td>\n",
              "    </tr>\n",
              "    <tr>\n",
              "      <th>3218</th>\n",
              "      <td>2782</td>\n",
              "      <td>50</td>\n",
              "      <td>F</td>\n",
              "      <td>f</td>\n",
              "      <td>f</td>\n",
              "      <td>f</td>\n",
              "      <td>f</td>\n",
              "      <td>f</td>\n",
              "      <td>f</td>\n",
              "      <td>f</td>\n",
              "      <td>...</td>\n",
              "      <td>4.8</td>\n",
              "      <td>t</td>\n",
              "      <td>0.6</td>\n",
              "      <td>t</td>\n",
              "      <td>98</td>\n",
              "      <td>t</td>\n",
              "      <td>0.8</td>\n",
              "      <td>t</td>\n",
              "      <td>122</td>\n",
              "      <td>sick</td>\n",
              "    </tr>\n",
              "    <tr>\n",
              "      <th>3219</th>\n",
              "      <td>2786</td>\n",
              "      <td>73</td>\n",
              "      <td>?</td>\n",
              "      <td>f</td>\n",
              "      <td>f</td>\n",
              "      <td>f</td>\n",
              "      <td>f</td>\n",
              "      <td>f</td>\n",
              "      <td>f</td>\n",
              "      <td>f</td>\n",
              "      <td>...</td>\n",
              "      <td>0.015</td>\n",
              "      <td>t</td>\n",
              "      <td>1.8</td>\n",
              "      <td>t</td>\n",
              "      <td>173</td>\n",
              "      <td>t</td>\n",
              "      <td>1</td>\n",
              "      <td>t</td>\n",
              "      <td>173</td>\n",
              "      <td>sick</td>\n",
              "    </tr>\n",
              "    <tr>\n",
              "      <th>3220</th>\n",
              "      <td>2796</td>\n",
              "      <td>73</td>\n",
              "      <td>M</td>\n",
              "      <td>f</td>\n",
              "      <td>t</td>\n",
              "      <td>f</td>\n",
              "      <td>f</td>\n",
              "      <td>f</td>\n",
              "      <td>f</td>\n",
              "      <td>f</td>\n",
              "      <td>...</td>\n",
              "      <td>?</td>\n",
              "      <td>t</td>\n",
              "      <td>0.7</td>\n",
              "      <td>t</td>\n",
              "      <td>63</td>\n",
              "      <td>t</td>\n",
              "      <td>0.88</td>\n",
              "      <td>t</td>\n",
              "      <td>72</td>\n",
              "      <td>sick</td>\n",
              "    </tr>\n",
              "  </tbody>\n",
              "</table>\n",
              "<p>3221 rows × 28 columns</p>\n",
              "</div>\n",
              "    <div class=\"colab-df-buttons\">\n",
              "\n",
              "  <div class=\"colab-df-container\">\n",
              "    <button class=\"colab-df-convert\" onclick=\"convertToInteractive('df-6c505dab-88d0-4880-be77-35a53af4138c')\"\n",
              "            title=\"Convert this dataframe to an interactive table.\"\n",
              "            style=\"display:none;\">\n",
              "\n",
              "  <svg xmlns=\"http://www.w3.org/2000/svg\" height=\"24px\" viewBox=\"0 -960 960 960\">\n",
              "    <path d=\"M120-120v-720h720v720H120Zm60-500h600v-160H180v160Zm220 220h160v-160H400v160Zm0 220h160v-160H400v160ZM180-400h160v-160H180v160Zm440 0h160v-160H620v160ZM180-180h160v-160H180v160Zm440 0h160v-160H620v160Z\"/>\n",
              "  </svg>\n",
              "    </button>\n",
              "\n",
              "  <style>\n",
              "    .colab-df-container {\n",
              "      display:flex;\n",
              "      gap: 12px;\n",
              "    }\n",
              "\n",
              "    .colab-df-convert {\n",
              "      background-color: #E8F0FE;\n",
              "      border: none;\n",
              "      border-radius: 50%;\n",
              "      cursor: pointer;\n",
              "      display: none;\n",
              "      fill: #1967D2;\n",
              "      height: 32px;\n",
              "      padding: 0 0 0 0;\n",
              "      width: 32px;\n",
              "    }\n",
              "\n",
              "    .colab-df-convert:hover {\n",
              "      background-color: #E2EBFA;\n",
              "      box-shadow: 0px 1px 2px rgba(60, 64, 67, 0.3), 0px 1px 3px 1px rgba(60, 64, 67, 0.15);\n",
              "      fill: #174EA6;\n",
              "    }\n",
              "\n",
              "    .colab-df-buttons div {\n",
              "      margin-bottom: 4px;\n",
              "    }\n",
              "\n",
              "    [theme=dark] .colab-df-convert {\n",
              "      background-color: #3B4455;\n",
              "      fill: #D2E3FC;\n",
              "    }\n",
              "\n",
              "    [theme=dark] .colab-df-convert:hover {\n",
              "      background-color: #434B5C;\n",
              "      box-shadow: 0px 1px 3px 1px rgba(0, 0, 0, 0.15);\n",
              "      filter: drop-shadow(0px 1px 2px rgba(0, 0, 0, 0.3));\n",
              "      fill: #FFFFFF;\n",
              "    }\n",
              "  </style>\n",
              "\n",
              "    <script>\n",
              "      const buttonEl =\n",
              "        document.querySelector('#df-6c505dab-88d0-4880-be77-35a53af4138c button.colab-df-convert');\n",
              "      buttonEl.style.display =\n",
              "        google.colab.kernel.accessAllowed ? 'block' : 'none';\n",
              "\n",
              "      async function convertToInteractive(key) {\n",
              "        const element = document.querySelector('#df-6c505dab-88d0-4880-be77-35a53af4138c');\n",
              "        const dataTable =\n",
              "          await google.colab.kernel.invokeFunction('convertToInteractive',\n",
              "                                                    [key], {});\n",
              "        if (!dataTable) return;\n",
              "\n",
              "        const docLinkHtml = 'Like what you see? Visit the ' +\n",
              "          '<a target=\"_blank\" href=https://colab.research.google.com/notebooks/data_table.ipynb>data table notebook</a>'\n",
              "          + ' to learn more about interactive tables.';\n",
              "        element.innerHTML = '';\n",
              "        dataTable['output_type'] = 'display_data';\n",
              "        await google.colab.output.renderOutput(dataTable, element);\n",
              "        const docLink = document.createElement('div');\n",
              "        docLink.innerHTML = docLinkHtml;\n",
              "        element.appendChild(docLink);\n",
              "      }\n",
              "    </script>\n",
              "  </div>\n",
              "\n",
              "\n",
              "<div id=\"df-0e74137b-8d9f-4739-abb4-eeb63bef890a\">\n",
              "  <button class=\"colab-df-quickchart\" onclick=\"quickchart('df-0e74137b-8d9f-4739-abb4-eeb63bef890a')\"\n",
              "            title=\"Suggest charts\"\n",
              "            style=\"display:none;\">\n",
              "\n",
              "<svg xmlns=\"http://www.w3.org/2000/svg\" height=\"24px\"viewBox=\"0 0 24 24\"\n",
              "     width=\"24px\">\n",
              "    <g>\n",
              "        <path d=\"M19 3H5c-1.1 0-2 .9-2 2v14c0 1.1.9 2 2 2h14c1.1 0 2-.9 2-2V5c0-1.1-.9-2-2-2zM9 17H7v-7h2v7zm4 0h-2V7h2v10zm4 0h-2v-4h2v4z\"/>\n",
              "    </g>\n",
              "</svg>\n",
              "  </button>\n",
              "\n",
              "<style>\n",
              "  .colab-df-quickchart {\n",
              "      --bg-color: #E8F0FE;\n",
              "      --fill-color: #1967D2;\n",
              "      --hover-bg-color: #E2EBFA;\n",
              "      --hover-fill-color: #174EA6;\n",
              "      --disabled-fill-color: #AAA;\n",
              "      --disabled-bg-color: #DDD;\n",
              "  }\n",
              "\n",
              "  [theme=dark] .colab-df-quickchart {\n",
              "      --bg-color: #3B4455;\n",
              "      --fill-color: #D2E3FC;\n",
              "      --hover-bg-color: #434B5C;\n",
              "      --hover-fill-color: #FFFFFF;\n",
              "      --disabled-bg-color: #3B4455;\n",
              "      --disabled-fill-color: #666;\n",
              "  }\n",
              "\n",
              "  .colab-df-quickchart {\n",
              "    background-color: var(--bg-color);\n",
              "    border: none;\n",
              "    border-radius: 50%;\n",
              "    cursor: pointer;\n",
              "    display: none;\n",
              "    fill: var(--fill-color);\n",
              "    height: 32px;\n",
              "    padding: 0;\n",
              "    width: 32px;\n",
              "  }\n",
              "\n",
              "  .colab-df-quickchart:hover {\n",
              "    background-color: var(--hover-bg-color);\n",
              "    box-shadow: 0 1px 2px rgba(60, 64, 67, 0.3), 0 1px 3px 1px rgba(60, 64, 67, 0.15);\n",
              "    fill: var(--button-hover-fill-color);\n",
              "  }\n",
              "\n",
              "  .colab-df-quickchart-complete:disabled,\n",
              "  .colab-df-quickchart-complete:disabled:hover {\n",
              "    background-color: var(--disabled-bg-color);\n",
              "    fill: var(--disabled-fill-color);\n",
              "    box-shadow: none;\n",
              "  }\n",
              "\n",
              "  .colab-df-spinner {\n",
              "    border: 2px solid var(--fill-color);\n",
              "    border-color: transparent;\n",
              "    border-bottom-color: var(--fill-color);\n",
              "    animation:\n",
              "      spin 1s steps(1) infinite;\n",
              "  }\n",
              "\n",
              "  @keyframes spin {\n",
              "    0% {\n",
              "      border-color: transparent;\n",
              "      border-bottom-color: var(--fill-color);\n",
              "      border-left-color: var(--fill-color);\n",
              "    }\n",
              "    20% {\n",
              "      border-color: transparent;\n",
              "      border-left-color: var(--fill-color);\n",
              "      border-top-color: var(--fill-color);\n",
              "    }\n",
              "    30% {\n",
              "      border-color: transparent;\n",
              "      border-left-color: var(--fill-color);\n",
              "      border-top-color: var(--fill-color);\n",
              "      border-right-color: var(--fill-color);\n",
              "    }\n",
              "    40% {\n",
              "      border-color: transparent;\n",
              "      border-right-color: var(--fill-color);\n",
              "      border-top-color: var(--fill-color);\n",
              "    }\n",
              "    60% {\n",
              "      border-color: transparent;\n",
              "      border-right-color: var(--fill-color);\n",
              "    }\n",
              "    80% {\n",
              "      border-color: transparent;\n",
              "      border-right-color: var(--fill-color);\n",
              "      border-bottom-color: var(--fill-color);\n",
              "    }\n",
              "    90% {\n",
              "      border-color: transparent;\n",
              "      border-bottom-color: var(--fill-color);\n",
              "    }\n",
              "  }\n",
              "</style>\n",
              "\n",
              "  <script>\n",
              "    async function quickchart(key) {\n",
              "      const quickchartButtonEl =\n",
              "        document.querySelector('#' + key + ' button');\n",
              "      quickchartButtonEl.disabled = true;  // To prevent multiple clicks.\n",
              "      quickchartButtonEl.classList.add('colab-df-spinner');\n",
              "      try {\n",
              "        const charts = await google.colab.kernel.invokeFunction(\n",
              "            'suggestCharts', [key], {});\n",
              "      } catch (error) {\n",
              "        console.error('Error during call to suggestCharts:', error);\n",
              "      }\n",
              "      quickchartButtonEl.classList.remove('colab-df-spinner');\n",
              "      quickchartButtonEl.classList.add('colab-df-quickchart-complete');\n",
              "    }\n",
              "    (() => {\n",
              "      let quickchartButtonEl =\n",
              "        document.querySelector('#df-0e74137b-8d9f-4739-abb4-eeb63bef890a button');\n",
              "      quickchartButtonEl.style.display =\n",
              "        google.colab.kernel.accessAllowed ? 'block' : 'none';\n",
              "    })();\n",
              "  </script>\n",
              "</div>\n",
              "    </div>\n",
              "  </div>\n"
            ],
            "application/vnd.google.colaboratory.intrinsic+json": {
              "type": "dataframe",
              "variable_name": "data"
            }
          },
          "metadata": {},
          "execution_count": 4
        }
      ]
    },
    {
      "cell_type": "code",
      "source": [
        "data['Category'] = data['Category'].map(mapping)"
      ],
      "metadata": {
        "id": "EvfAsH1s_sET"
      },
      "execution_count": null,
      "outputs": []
    },
    {
      "cell_type": "code",
      "source": [
        "data.shape"
      ],
      "metadata": {
        "colab": {
          "base_uri": "https://localhost:8080/"
        },
        "id": "JbRhwisL_7rf",
        "outputId": "6f53a195-ecdc-4003-9f70-11ae9d684329"
      },
      "execution_count": null,
      "outputs": [
        {
          "output_type": "execute_result",
          "data": {
            "text/plain": [
              "(3221, 28)"
            ]
          },
          "metadata": {},
          "execution_count": 6
        }
      ]
    },
    {
      "cell_type": "code",
      "source": [
        "data = pd.read_csv('thyroid_data.csv')\n",
        "n = len(data[data['Category'] == 'hyperthyroid'])\n",
        "print(\"No of hyperthyroid in Dataset:\",n)\n",
        "\n",
        "n1 = len(data[data['Category'] == 'hypothyroid'])\n",
        "print(\"No of hypothyroid in Dataset:\",n1)\n",
        "\n",
        "n2 = len(data[data['Category'] == 'sick'])\n",
        "print(\"No of sick in Dataset:\",n2)\n",
        "\n",
        "n3 = len(data[data['Category'] == 'negative'])\n",
        "print(\"No of negative in Dataset:\",n3)"
      ],
      "metadata": {
        "colab": {
          "base_uri": "https://localhost:8080/"
        },
        "id": "WICN6Pbp_-cv",
        "outputId": "1fffb7ab-ab48-49b0-ed36-f204b057c702"
      },
      "execution_count": null,
      "outputs": [
        {
          "output_type": "stream",
          "name": "stdout",
          "text": [
            "No of hyperthyroid in Dataset: 77\n",
            "No of hypothyroid in Dataset: 220\n",
            "No of sick in Dataset: 171\n",
            "No of negative in Dataset: 2753\n"
          ]
        }
      ]
    },
    {
      "cell_type": "code",
      "source": [
        "## checking missing values"
      ],
      "metadata": {
        "id": "AwLTrOJpBi03"
      },
      "execution_count": null,
      "outputs": []
    },
    {
      "cell_type": "code",
      "source": [
        "data.isnull().sum()"
      ],
      "metadata": {
        "colab": {
          "base_uri": "https://localhost:8080/"
        },
        "id": "0L6-oumlBqdH",
        "outputId": "df4cf1fe-f8b6-48b5-8a17-6dadfcb286d0"
      },
      "execution_count": null,
      "outputs": [
        {
          "output_type": "execute_result",
          "data": {
            "text/plain": [
              "S.no                         0\n",
              "Age                          0\n",
              "Sex                          0\n",
              "On Thyroxine                 0\n",
              "Query on Thyroxine           0\n",
              "On Antithyroid Medication    0\n",
              "Sick                         0\n",
              "Pregnant                     0\n",
              "Thyroid Surgery              0\n",
              "I131 Treatment               0\n",
              "Query Hypothyroid            0\n",
              "Query Hyperthyroid           0\n",
              "Lithium                      0\n",
              "Goitre                       0\n",
              "Tumor                        0\n",
              "Hypopituitary                0\n",
              "Psych                        0\n",
              "TSH Measured                 0\n",
              "TSH                          0\n",
              "T3 Measured                  0\n",
              "T3                           0\n",
              "TT4 Measured                 0\n",
              "TT4                          0\n",
              "T4U Measured                 0\n",
              "T4U                          0\n",
              "FTI Measured                 0\n",
              "FTI                          0\n",
              "Category                     0\n",
              "dtype: int64"
            ]
          },
          "metadata": {},
          "execution_count": 12
        }
      ]
    },
    {
      "cell_type": "code",
      "source": [
        "##### We can see that there are no missing values. But if we see the dataset the missing values are replaced with the invalid values like '?'. Let's replace such values with 'nan' and check for the missing values again.\n"
      ],
      "metadata": {
        "id": "6aurRE90BzeK"
      },
      "execution_count": null,
      "outputs": []
    },
    {
      "cell_type": "code",
      "source": [
        "for column in data.columns:\n",
        "    count=data[column][data[column]=='?'].count()\n",
        "    if count != 0:\n",
        "        print(column,data[column][data[column]=='?'].count())"
      ],
      "metadata": {
        "colab": {
          "base_uri": "https://localhost:8080/"
        },
        "id": "08YJ5RgwB2v7",
        "outputId": "8bd4a497-b387-4976-ab2a-27d529b8e42c"
      },
      "execution_count": null,
      "outputs": [
        {
          "output_type": "stream",
          "name": "stdout",
          "text": [
            "Age 1\n",
            "Sex 127\n",
            "TSH 247\n",
            "T3 589\n",
            "TT4 142\n",
            "T4U 276\n",
            "FTI 274\n"
          ]
        }
      ]
    },
    {
      "cell_type": "code",
      "source": [
        "## dropping unnecessary columns"
      ],
      "metadata": {
        "id": "LVh1x7xSB7Cb"
      },
      "execution_count": null,
      "outputs": []
    },
    {
      "cell_type": "code",
      "source": [
        "data=data.drop([ 'S.no','On Thyroxine', 'Query on Thyroxine',\n",
        "       'On Antithyroid Medication',\n",
        "       'I131 Treatment', 'Query Hypothyroid', 'Query Hyperthyroid', 'Lithium',\n",
        "        'TSH Measured','Hypopituitary','Psych',\n",
        "       'T3 Measured',  'TT4 Measured', 'T4U Measured',\n",
        "       'FTI Measured'],axis=1)\n"
      ],
      "metadata": {
        "id": "EeDk7TjECFNz"
      },
      "execution_count": null,
      "outputs": []
    },
    {
      "cell_type": "code",
      "source": [
        "# Replacing all ? values with numpy nan"
      ],
      "metadata": {
        "id": "sFjGJd3gCQvt"
      },
      "execution_count": null,
      "outputs": []
    },
    {
      "cell_type": "code",
      "source": [
        "for column in data.columns:\n",
        "    count=data[column][data[column]== '?'].count()\n",
        "    if count!=0:\n",
        "        data[column]=data[column].replace('?',np.nan)\n",
        "\n",
        "for column in data.columns:\n",
        "    count=data[column][data[column]=='?'].count()\n",
        "    if count == 0:\n",
        "        print(column,data[column][data[column]=='?'].count())\n"
      ],
      "metadata": {
        "colab": {
          "base_uri": "https://localhost:8080/"
        },
        "id": "Fe4m-7_KCPh2",
        "outputId": "c7be2f7f-7b96-43ba-c2b8-33e311f65519"
      },
      "execution_count": null,
      "outputs": [
        {
          "output_type": "stream",
          "name": "stdout",
          "text": [
            "Age 0\n",
            "Sex 0\n",
            "Sick 0\n",
            "Pregnant 0\n",
            "Thyroid Surgery 0\n",
            "Goitre 0\n",
            "Tumor 0\n",
            "TSH 0\n",
            "T3 0\n",
            "TT4 0\n",
            "T4U 0\n",
            "FTI 0\n",
            "Category 0\n"
          ]
        }
      ]
    },
    {
      "cell_type": "code",
      "source": [
        "## all values are now replaed"
      ],
      "metadata": {
        "id": "L2VImA3CCeH9"
      },
      "execution_count": null,
      "outputs": []
    },
    {
      "cell_type": "code",
      "source": [
        "## print all unique values in the dataset\n",
        "\n",
        "for column in data.columns:\n",
        "    print(column,(data[column].unique()))\n"
      ],
      "metadata": {
        "colab": {
          "base_uri": "https://localhost:8080/"
        },
        "id": "hdTWvestCnlG",
        "outputId": "4454c749-2631-4a96-d353-03fd375a278d"
      },
      "execution_count": null,
      "outputs": [
        {
          "output_type": "stream",
          "name": "stdout",
          "text": [
            "Age ['41' '23' '46' '70' '18' '59' '80' '66' '68' '84' '67' '71' '28' '65'\n",
            " '42' '63' '51' '81' '54' '55' '60' '25' '73' '34' '78' '37' '85' '26'\n",
            " '58' '64' '44' '48' '61' '35' '83' '21' '87' '53' '77' '27' '69' '74'\n",
            " '38' '76' '45' '36' '22' '43' '72' '82' '31' '39' '49' '62' '57' '1' '50'\n",
            " '30' '29' '75' '19' '7' '79' '17' '24' '15' '32' '47' '16' '52' '33' '13'\n",
            " '10' '89' '56' '20' '90' '40' '88' '14' '86' '94' '12' '4' '11' '8' '5'\n",
            " '455' '2' '91' '6' nan '93' '92']\n",
            "Sex ['F' 'M' nan]\n",
            "Sick ['f' 't']\n",
            "Pregnant ['f' 't']\n",
            "Thyroid Surgery ['f' 't']\n",
            "Goitre ['f' 't']\n",
            "Tumor ['f' 't']\n",
            "TSH ['1.3' '4.1' '0.98' '0.16' '0.72' '0.03' nan '2.2' '0.6' '2.4' '1.1' '2.8'\n",
            " '3.3' '12' '1.2' '1.5' '6' '2.1' '0.1' '0.8' '1.9' '3.1' '0.2' '13' '0.3'\n",
            " '0.035' '2.5' '0.5' '1.7' '7.3' '1.8' '0.26' '45' '5.4' '0.99' '0.25'\n",
            " '0.92' '0.15' '0.64' '1' '0.4' '2' '2.6' '14.8' '15' '19' '0.02' '3'\n",
            " '2.9' '3.2' '9' '1.6' '4.3' '0.005' '0.31' '0.61' '0.05' '7.8' '160'\n",
            " '0.025' '1.4' '0.01' '8.8' '151' '0.04' '3.9' '9.4' '2.7' '2.3' '0.94'\n",
            " '0.045' '3.5' '0.88' '0.08' '4.5' '0.68' '0.7' '0.67' '27' '6.1' '0.75'\n",
            " '0.55' '26' '5.2' '0.77' '0.07' '0.9' '11.4' '143' '0.45' '0.57' '0.65'\n",
            " '0.015' '16' '108' '0.83' '9.2' '86' '0.62' '0.59' '9.1' '5.9' '52'\n",
            " '0.33' '31' '5.8' '0.28' '51' '6.3' '4.4' '9.6' '3.4' '0.09' '24' '0.76'\n",
            " '42' '25' '10' '4.6' '8.6' '0.66' '6.2' '0.79' '28' '0.86' '9.7' '0.84'\n",
            " '17' '18' '55' '14' '3.7' '0.87' '6.7' '0.74' '7.6' '0.065' '0.29' '0.37'\n",
            " '8' '11' '0.48' '44' '7.9' '5' '7.2' '0.89' '0.93' '0.97' '0.12' '6.4'\n",
            " '33' '0.85' '7.1' '0.73' '199' '8.2' '188' '0.22' '98' '22' '6.6' '5.1'\n",
            " '0.06' '0.42' '3.8' '35' '4' '0.78' '0.63' '0.52' '60' '0.43' '5.6' '6.9'\n",
            " '3.6' '29' '0.38' '4.9' '0.41' '9.9' '7.5' '34' '6.5' '4.7' '103' '0.95'\n",
            " '0.14' '0.35' '4.2' '0.81' '0.54' '0.58' '8.9' '5.5' '0.34' '9.3' '0.13'\n",
            " '54' '0.39' '8.3' '478' '21' '6.8' '0.32' '0.23' '0.24' '8.1' '0.91'\n",
            " '5.3' '100' '0.27' '1.01' '58' '41' '183' '18.4' '0.47' '0.17' '12.1'\n",
            " '0.19' '0.82' '43' '0.44' '70' '7.7' '8.4' '0.69' '8.5' '0.21' '82'\n",
            " '0.055' '0.96' '0.71' '38' '0.36' '9.8' '7' '0.46' '11.1' '39' '76' '5.7'\n",
            " '32' '126' '26.4' '0.53' '0.49' '36' '178' '145' '47' '4.8' '10.3' '89'\n",
            " '7.4' '472' '0.51' '116' '61' '99' '46' '78' '468']\n",
            "T3 ['2.5' '2' nan '1.9' '1.2' '0.6' '2.2' '1.6' '3.8' '1.7' '1.8' '2.6' '2.1'\n",
            " '0.3' '5.5' '1.4' '3.1' '1.5' '2.3' '2.4' '2.7' '0.9' '1' '2.8' '2.9'\n",
            " '0.8' '1.3' '0.4' '3.3' '3.5' '3.4' '1.1' '4.2' '3.7' '3' '0.7' '4.8'\n",
            " '4.3' '0.05' '3.2' '5.4' '4' '0.5' '0.2' '3.6' '5.2' '5' '6' '5.3' '3.9'\n",
            " '4.6' '4.5' '7.3' '4.7' '6.7' '4.1' '6.1' '0.1' '4.9' '10.6' '5.1' '7'\n",
            " '6.2' '4.4' '7.1']\n",
            "TT4 ['125' '102' '109' '175' '61' '183' '72' '80' '123' '83' '115' '152' '171'\n",
            " '97' '99' '70' '117' '121' '130' '108' '104' '134' '199' '57' '129' '113'\n",
            " '119' '84' '81' '95' '66' '101' '147' '120' '69' nan '39' '87' '63' '133'\n",
            " '86' '163' '162' '103' '96' '151' '112' '82' '138' '71' '77' '93' '107'\n",
            " '237' '110' '67' '88' '160' '118' '136' '114' '116' '94' '161' '11' '32'\n",
            " '124' '137' '92' '135' '105' '150' '126' '146' '91' '217' '141' '159'\n",
            " '122' '100' '111' '140' '205' '225' '85' '90' '74' '219' '127' '132'\n",
            " '128' '106' '144' '131' '56' '79' '142' '98' '177' '139' '78' '189' '180'\n",
            " '73' '145' '184' '38' '156' '75' '148' '14' '76' '54' '58' '27' '65'\n",
            " '193' '13' '143' '12' '64' '257' '164' '59' '167' '18' '41' '176' '37'\n",
            " '33' '44' '45' '154' '174' '203' '244' '62' '158' '60' '187' '250' '181'\n",
            " '157' '223' '272' '166' '213' '235' '10' '68' '231' '191' '48' '5.8'\n",
            " '169' '149' '210' '40' '155' '232' '42' '204' '430' '198' '230' '15'\n",
            " '170' '165' '47' '168' '194' '89' '52' '179' '192' '172' '4.8' '50' '182'\n",
            " '197' '214' '246' '196' '207' '19' '153' '22' '46' '200' '35' '226' '201'\n",
            " '233' '206' '31' '255' '178' '239' '195' '6' '36' '2' '3' '289' '240'\n",
            " '209' '43' '34' '252' '29' '263' '301' '23' '188' '211' '253' '21' '173']\n",
            "T4U ['1.14' nan '0.91' '0.87' '1.3' '0.92' '0.7' '0.93' '0.89' '0.95' '0.99'\n",
            " '1.13' '0.86' '0.96' '0.94' '0.9' '1.02' '1.05' '0.62' '1.06' '1.55'\n",
            " '0.83' '1.09' '1.07' '1.27' '0.76' '1.16' '1' '0.56' '0.81' '0.68' '0.78'\n",
            " '0.85' '1.35' '1.15' '0.82' '1.03' '1.58' '0.79' '1.17' '0.71' '0.72'\n",
            " '0.88' '1.11' '1.2' '1.1' '1.33' '0.77' '1.24' '0.53' '1.44' '1.63'\n",
            " '1.51' '1.42' '1.23' '1.01' '0.98' '0.61' '1.12' '1.43' '1.25' '1.41'\n",
            " '1.68' '0.97' '0.84' '0.8' '1.04' '0.73' '1.08' '1.26' '1.46' '1.29'\n",
            " '1.34' '1.66' '1.21' '1.19' '0.75' '0.52' '1.83' '1.39' '1.5' '1.93'\n",
            " '1.18' '0.74' '0.58' '1.82' '0.6' '1.67' '1.22' '0.66' '0.67' '1.31'\n",
            " '0.54' '1.77' '1.59' '1.97' '1.69' '1.38' '1.28' '1.4' '0.69' '0.65'\n",
            " '1.74' '2.03' '1.73' '1.65' '1.36' '1.52' '0.57' '1.53' '1.84' '1.57'\n",
            " '1.75' '1.32' '1.37' '0.64' '1.79' '1.8' '0.48' '1.71' '1.62' '1.76'\n",
            " '1.56' '1.48' '0.59' '0.31' '1.94' '2.12' '1.47' '0.63' '0.944' '0.49'\n",
            " '1.88' '0.5' '0.38' '1.49' '0.41' '1.61' '1.7']\n",
            "FTI ['109' nan '120' '70' '141' '78' '115' '132' '93' '121' '153' '151' '107'\n",
            " '119' '87' '81' '104' '130' '106' '116' '131' '190' '92' '102' '76' '98'\n",
            " '90' '61' '94' '129' '95' '91' '33' '113' '148' '140' '171' '155' '186'\n",
            " '122' '136' '110' '111' '97' '72' '100' '88' '67' '84' '103' '135' '203'\n",
            " '112' '117' '180' '142' '145' '156' '96' '134' '8.9' '60' '139' '41' '99'\n",
            " '89' '146' '124' '105' '85' '157' '143' '71' '221' '28' '108' '137' '83'\n",
            " '74' '170' '65' '101' '127' '274' '154' '114' '62' '86' '126' '125' '64'\n",
            " '172' '162' '79' '118' '73' '152' '163' '149' '14' '51' '165' '77' '32'\n",
            " '69' '80' '11' '54' '164' '123' '144' '10' '214' '200' '160' '53' '16'\n",
            " '138' '169' '56' '47' '133' '43' '68' '179' '224' '220' '82' '362' '182'\n",
            " '75' '66' '161' '57' '58' '312' '63' '128' '147' '158' '281' '207' '216'\n",
            " '251' '194' '46' '7' '42' '174' '395' '185' '13' '201' '48' '173' '167'\n",
            " '188' '150' '235' '175' '159' '5.4' '189' '59' '166' '34' '228' '232'\n",
            " '217' '177' '176' '195' '219' '17' '210' '168' '205' '39' '187' '50'\n",
            " '349' '52' '206' '253' '242' '244' '213' '178' '247' '215' '198' '19'\n",
            " '237' '37' '7.6' '24' '2' '3' '191' '223' '9' '29' '222' '204' '26' '218'\n",
            " '197' '49' '209' '183']\n",
            "Category ['negative' 'hyperthyroid' 'hypothyroid' 'sick']\n"
          ]
        }
      ]
    },
    {
      "cell_type": "code",
      "source": [
        "data.dtypes\n"
      ],
      "metadata": {
        "colab": {
          "base_uri": "https://localhost:8080/"
        },
        "id": "ORwYQ80fCx7H",
        "outputId": "ad574c72-f067-419a-d3a1-b1fd5f1fcd0e"
      },
      "execution_count": null,
      "outputs": [
        {
          "output_type": "execute_result",
          "data": {
            "text/plain": [
              "Age                object\n",
              "Sex                object\n",
              "Sick               object\n",
              "Pregnant           object\n",
              "Thyroid Surgery    object\n",
              "Goitre             object\n",
              "Tumor              object\n",
              "TSH                object\n",
              "T3                 object\n",
              "TT4                object\n",
              "T4U                object\n",
              "FTI                object\n",
              "Category           object\n",
              "dtype: object"
            ]
          },
          "metadata": {},
          "execution_count": 19
        }
      ]
    },
    {
      "cell_type": "code",
      "source": [
        "## Handling missing values\n",
        "\n",
        "data['Age'].fillna((data['Age'].median()), inplace = True)\n",
        "data['TSH'].fillna((data['TSH'].median()), inplace = True)\n",
        "data['T3'].fillna((data['T3'].median()), inplace = True)\n",
        "data['TT4'].fillna((data['TT4'].median()), inplace = True)\n",
        "data['T4U'].fillna((data['T4U'].median()), inplace = True)\n",
        "data['FTI'].fillna((data['FTI'].median()), inplace = True)"
      ],
      "metadata": {
        "id": "u-aOnTWnC7yD"
      },
      "execution_count": null,
      "outputs": []
    },
    {
      "cell_type": "code",
      "source": [
        "### Handling nominal categorical variables\n",
        "\n",
        "## one hot encoding method is performed for that\n",
        "sex = data[[\"Sex\"]]\n",
        "sex = pd.get_dummies(sex, drop_first= True)\n",
        "\n",
        "sick = data[[\"Sick\"]]\n",
        "sick = pd.get_dummies(sick, drop_first= True)\n",
        "\n",
        "pregnant = data[[\"Pregnant\"]]\n",
        "pregnant = pd.get_dummies(pregnant, drop_first= True)\n",
        "\n",
        "thyroid_surgery = data[[\"Thyroid Surgery\"]]\n",
        "thyroid_surgery = pd.get_dummies(thyroid_surgery, drop_first= True)\n",
        "\n",
        "goitre = data[[\"Goitre\"]]\n",
        "goitre = pd.get_dummies(goitre, drop_first= True)\n",
        "\n",
        "tumor = data[[\"Tumor\"]]\n",
        "tumor = pd.get_dummies(tumor, drop_first= True)\n",
        "\n",
        "data.columns\n",
        "\n",
        "final_df = pd.concat([data,sex, sick, pregnant, thyroid_surgery,\n",
        "       goitre, tumor,], axis = 1)\n",
        "\n",
        "final_df.columns\n",
        "\n",
        "final_df.drop(['Sex', 'Sick', 'Pregnant', 'Thyroid Surgery',\n",
        "       'Goitre', 'Tumor'], axis = 1, inplace = True)\n"
      ],
      "metadata": {
        "id": "2-hcJuB4DFLY"
      },
      "execution_count": null,
      "outputs": []
    },
    {
      "cell_type": "code",
      "source": [
        "## Checking the missing values\n",
        "final_df.isnull().sum()\n",
        "\n",
        "final_df.to_csv('cleaned data.csv',index=False)\n",
        "\n",
        "final_df.info()"
      ],
      "metadata": {
        "colab": {
          "base_uri": "https://localhost:8080/"
        },
        "id": "C3b3Bsd3DZJb",
        "outputId": "adc35077-81d0-4ede-c075-e4d9d37eb80e"
      },
      "execution_count": null,
      "outputs": [
        {
          "output_type": "stream",
          "name": "stdout",
          "text": [
            "<class 'pandas.core.frame.DataFrame'>\n",
            "RangeIndex: 3221 entries, 0 to 3220\n",
            "Data columns (total 13 columns):\n",
            " #   Column             Non-Null Count  Dtype \n",
            "---  ------             --------------  ----- \n",
            " 0   Age                3221 non-null   object\n",
            " 1   TSH                3221 non-null   object\n",
            " 2   T3                 3221 non-null   object\n",
            " 3   TT4                3221 non-null   object\n",
            " 4   T4U                3221 non-null   object\n",
            " 5   FTI                3221 non-null   object\n",
            " 6   Category           3221 non-null   object\n",
            " 7   Sex_M              3221 non-null   bool  \n",
            " 8   Sick_t             3221 non-null   bool  \n",
            " 9   Pregnant_t         3221 non-null   bool  \n",
            " 10  Thyroid Surgery_t  3221 non-null   bool  \n",
            " 11  Goitre_t           3221 non-null   bool  \n",
            " 12  Tumor_t            3221 non-null   bool  \n",
            "dtypes: bool(6), object(7)\n",
            "memory usage: 195.1+ KB\n"
          ]
        }
      ]
    },
    {
      "cell_type": "code",
      "source": [
        "## the data has no missing values"
      ],
      "metadata": {
        "id": "-sQkHSyDDgwE"
      },
      "execution_count": null,
      "outputs": []
    },
    {
      "cell_type": "code",
      "source": [
        "\n",
        "final_df['Category']=final_df['Category'].astype('category')"
      ],
      "metadata": {
        "id": "z92zfx-cDtzY"
      },
      "execution_count": null,
      "outputs": []
    },
    {
      "cell_type": "code",
      "source": [
        " ## checking distribution for continuous data in the dataset.\n",
        "columns = ['Age','TSH','T3','TT4','T4U','FTI']\n",
        "\n",
        "plt.figure(figsize=(10,15),facecolor='white')\n",
        "plotnumber = 1\n",
        "\n",
        "for column in columns:\n",
        "    ax = plt.subplot(3,2,plotnumber)\n",
        "    sns.distplot(final_df[column])\n",
        "    plt.xlabel(column,fontsize=10)\n",
        "    plotnumber+=1\n",
        "plt.show()\n",
        "\n"
      ],
      "metadata": {
        "colab": {
          "base_uri": "https://localhost:8080/",
          "height": 1000
        },
        "id": "1IzPcoAOD0fB",
        "outputId": "2add44ea-3e91-4350-d80a-ffef17558a75"
      },
      "execution_count": null,
      "outputs": [
        {
          "output_type": "stream",
          "name": "stderr",
          "text": [
            "<ipython-input-25-f5fb0fb41a0b>:9: UserWarning: \n",
            "\n",
            "`distplot` is a deprecated function and will be removed in seaborn v0.14.0.\n",
            "\n",
            "Please adapt your code to use either `displot` (a figure-level function with\n",
            "similar flexibility) or `histplot` (an axes-level function for histograms).\n",
            "\n",
            "For a guide to updating your code to use the new functions, please see\n",
            "https://gist.github.com/mwaskom/de44147ed2974457ad6372750bbe5751\n",
            "\n",
            "  sns.distplot(final_df[column])\n",
            "<ipython-input-25-f5fb0fb41a0b>:9: UserWarning: \n",
            "\n",
            "`distplot` is a deprecated function and will be removed in seaborn v0.14.0.\n",
            "\n",
            "Please adapt your code to use either `displot` (a figure-level function with\n",
            "similar flexibility) or `histplot` (an axes-level function for histograms).\n",
            "\n",
            "For a guide to updating your code to use the new functions, please see\n",
            "https://gist.github.com/mwaskom/de44147ed2974457ad6372750bbe5751\n",
            "\n",
            "  sns.distplot(final_df[column])\n",
            "<ipython-input-25-f5fb0fb41a0b>:9: UserWarning: \n",
            "\n",
            "`distplot` is a deprecated function and will be removed in seaborn v0.14.0.\n",
            "\n",
            "Please adapt your code to use either `displot` (a figure-level function with\n",
            "similar flexibility) or `histplot` (an axes-level function for histograms).\n",
            "\n",
            "For a guide to updating your code to use the new functions, please see\n",
            "https://gist.github.com/mwaskom/de44147ed2974457ad6372750bbe5751\n",
            "\n",
            "  sns.distplot(final_df[column])\n",
            "<ipython-input-25-f5fb0fb41a0b>:9: UserWarning: \n",
            "\n",
            "`distplot` is a deprecated function and will be removed in seaborn v0.14.0.\n",
            "\n",
            "Please adapt your code to use either `displot` (a figure-level function with\n",
            "similar flexibility) or `histplot` (an axes-level function for histograms).\n",
            "\n",
            "For a guide to updating your code to use the new functions, please see\n",
            "https://gist.github.com/mwaskom/de44147ed2974457ad6372750bbe5751\n",
            "\n",
            "  sns.distplot(final_df[column])\n",
            "<ipython-input-25-f5fb0fb41a0b>:9: UserWarning: \n",
            "\n",
            "`distplot` is a deprecated function and will be removed in seaborn v0.14.0.\n",
            "\n",
            "Please adapt your code to use either `displot` (a figure-level function with\n",
            "similar flexibility) or `histplot` (an axes-level function for histograms).\n",
            "\n",
            "For a guide to updating your code to use the new functions, please see\n",
            "https://gist.github.com/mwaskom/de44147ed2974457ad6372750bbe5751\n",
            "\n",
            "  sns.distplot(final_df[column])\n",
            "<ipython-input-25-f5fb0fb41a0b>:9: UserWarning: \n",
            "\n",
            "`distplot` is a deprecated function and will be removed in seaborn v0.14.0.\n",
            "\n",
            "Please adapt your code to use either `displot` (a figure-level function with\n",
            "similar flexibility) or `histplot` (an axes-level function for histograms).\n",
            "\n",
            "For a guide to updating your code to use the new functions, please see\n",
            "https://gist.github.com/mwaskom/de44147ed2974457ad6372750bbe5751\n",
            "\n",
            "  sns.distplot(final_df[column])\n"
          ]
        },
        {
          "output_type": "display_data",
          "data": {
            "text/plain": [
              "<Figure size 1000x1500 with 6 Axes>"
            ],
            "image/png": "[encoded data removed]"
          },
          "metadata": {}
        }
      ]
    },
    {
      "cell_type": "code",
      "source": [
        "import pandas as pd\n",
        "import seaborn as sns\n",
        "import matplotlib.pyplot as plt\n",
        "from imblearn.over_sampling import RandomOverSampler\n",
        "\n",
        "# Load CSV data into a DataFrame\n",
        "df = pd.read_csv('cleaned data.csv')\n",
        "\n",
        "# Check class distribution before balancing\n",
        "class_distribution_before = df['Category'].value_counts().reset_index()\n",
        "class_distribution_before.columns = ['Class', 'Count']\n",
        "\n",
        "# Create a count plot for class distribution before balancing\n",
        "plt.figure(figsize=(10, 6))\n",
        "sns.barplot(x='Class', y='Count', data=class_distribution_before)\n",
        "plt.title('Class Distribution Before Balancing')\n",
        "plt.xlabel('Class')\n",
        "plt.ylabel('Count')\n",
        "plt.show()\n",
        "\n",
        "# Instantiate RandomOverSampler\n",
        "oversampler = RandomOverSampler()\n",
        "\n",
        "# Resample the dataset using random oversampling\n",
        "X_resampled, y_resampled = oversampler.fit_resample(df.drop('Category', axis=1), df['Category'])\n",
        "\n",
        "# Combine resampled features and target into a DataFrame\n",
        "balanced_data = pd.concat([pd.DataFrame(X_resampled, columns=df.drop('Category', axis=1).columns),\n",
        "                           pd.Series(y_resampled, name='Category')], axis=1)\n",
        "\n",
        "# Check class distribution after balancing\n",
        "class_distribution_after = balanced_data['Category'].value_counts().reset_index()\n",
        "class_distribution_after.columns = ['Class', 'Count']\n",
        "\n",
        "# Create a count plot for class distribution after balancing\n",
        "plt.figure(figsize=(10, 6))\n",
        "sns.barplot(x='Class', y='Count', data=class_distribution_after)\n",
        "plt.title('Class Distribution After Balancing')\n",
        "plt.xlabel('Class')\n",
        "plt.ylabel('Count')\n",
        "plt.show()\n",
        "\n",
        "# Save balanced data to a new CSV file\n",
        "balanced_data.to_csv('balanced_dataset.csv', index=False)\n"
      ],
      "metadata": {
        "id": "ARZ66UX2D96i",
        "colab": {
          "base_uri": "https://localhost:8080/",
          "height": 1000
        },
        "outputId": "29eaed4d-c748-440b-e490-b250e9640661"
      },
      "execution_count": 26,
      "outputs": [
        {
          "output_type": "display_data",
          "data": {
            "text/plain": [
              "<Figure size 1000x600 with 1 Axes>"
            ],
            "image/png": "[encoded data removed]"
          },
          "metadata": {}
        },
        {
          "output_type": "display_data",
          "data": {
            "text/plain": [
              "<Figure size 1000x600 with 1 Axes>"
            ],
            "image/png": "[encoded data removed]"
          },
          "metadata": {}
        }
      ]
    },
    {
      "cell_type": "markdown",
      "source": [
        "# New section"
      ],
      "metadata": {
        "id": "S1XTSHUKGfuQ"
      }
    },
    {
      "cell_type": "code",
      "source": [
        "import pandas as pd\n",
        "from sklearn.model_selection import train_test_split\n",
        "from sklearn.preprocessing import StandardScaler\n",
        "from sklearn.svm import SVC\n",
        "from sklearn.metrics import accuracy_score, classification_report\n",
        "\n",
        "data = pd.read_csv('balanced_dataset.csv')\n",
        "\n",
        "columns = ['Age', 'TSH', 'T3', 'TT4', 'T4U', 'FTI', 'Sex_M', 'Sick_t',\n",
        "           'Pregnant_t', 'Thyroid Surgery_t', 'Goitre_t', 'Tumor_t']\n",
        "\n",
        "X = data[columns]  # Features\n",
        "y = data['Category']  # Target variable\n",
        "\n",
        "# Spliting data into training and testing sets\n",
        "X_train, X_test, y_train, y_test = train_test_split(X, y, test_size=0.2, random_state=42)\n",
        "\n",
        "scaler = StandardScaler()\n",
        "X_train_scaled = scaler.fit_transform(X_train)\n",
        "X_test_scaled = scaler.transform(X_test)\n",
        "\n",
        "model = SVC(kernel='linear')\n",
        "model.fit(X_train_scaled, y_train)\n",
        "\n",
        "y_pred = model.predict(X_test_scaled)\n",
        "\n",
        "accuracy = accuracy_score(y_test, y_pred)\n",
        "print(\"Accuracy:\", accuracy)\n",
        "\n",
        "print(\"Classification Report:\")\n",
        "print(classification_report(y_test, y_pred))"
      ],
      "metadata": {
        "colab": {
          "base_uri": "https://localhost:8080/"
        },
        "id": "6DyRInYGGrR_",
        "outputId": "f426cdfe-1ac1-4f00-a7ef-579b2a0e1695"
      },
      "execution_count": 36,
      "outputs": [
        {
          "output_type": "stream",
          "name": "stdout",
          "text": [
            "Accuracy: 0.8325011348161597\n",
            "Classification Report:\n",
            "              precision    recall  f1-score   support\n",
            "\n",
            "hyperthyroid       0.86      0.96      0.91       557\n",
            " hypothyroid       0.88      0.80      0.84       544\n",
            "    negative       0.82      0.71      0.76       551\n",
            "        sick       0.78      0.86      0.82       551\n",
            "\n",
            "    accuracy                           0.83      2203\n",
            "   macro avg       0.83      0.83      0.83      2203\n",
            "weighted avg       0.83      0.83      0.83      2203\n",
            "\n"
          ]
        }
      ]
    },
    {
      "cell_type": "code",
      "source": [
        "import pandas as pd\n",
        "from sklearn.model_selection import train_test_split\n",
        "from sklearn.tree import DecisionTreeClassifier\n",
        "from sklearn.ensemble import RandomForestClassifier\n",
        "from sklearn.metrics import accuracy_score, classification_report\n",
        "\n",
        "data = pd.read_csv('balanced_dataset.csv')\n",
        "\n",
        "columns = ['Age', 'TSH', 'T3', 'TT4', 'T4U', 'FTI', 'Sex_M', 'Sick_t',\n",
        "           'Pregnant_t', 'Thyroid Surgery_t', 'Goitre_t', 'Tumor_t']\n",
        "\n",
        "X = data[columns]\n",
        "y = data['Category']\n",
        "\n",
        "# Spliting data into training and testing sets\n",
        "X_train, X_test, y_train, y_test = train_test_split(X, y, test_size=0.2, random_state=42)\n",
        "\n",
        "# Decision Tree\n",
        "dt_model = DecisionTreeClassifier(random_state=42)\n",
        "dt_model.fit(X_train, y_train)\n",
        "dt_predictions = dt_model.predict(X_test)\n",
        "\n",
        "# Random Forest\n",
        "rf_model = RandomForestClassifier(random_state=42)\n",
        "rf_model.fit(X_train, y_train)\n",
        "rf_predictions = rf_model.predict(X_test)\n",
        "\n",
        "dt_accuracy = accuracy_score(y_test, dt_predictions)\n",
        "print(\"Decision Tree Accuracy:\", dt_accuracy)\n",
        "print(\"Decision Tree Classification Report:\")\n",
        "print(classification_report(y_test, dt_predictions))\n",
        "\n",
        "rf_accuracy = accuracy_score(y_test, rf_predictions)\n"
      ],
      "metadata": {
        "colab": {
          "base_uri": "https://localhost:8080/"
        },
        "id": "2rP8Jb6IGxNG",
        "outputId": "8e3e4acc-4b57-4f01-b68c-ff0630501c4d"
      },
      "execution_count": 37,
      "outputs": [
        {
          "output_type": "stream",
          "name": "stdout",
          "text": [
            "Decision Tree Accuracy: 0.9092147072174308\n",
            "Decision Tree Classification Report:\n",
            "              precision    recall  f1-score   support\n",
            "\n",
            "hyperthyroid       0.90      1.00      0.95       557\n",
            " hypothyroid       0.88      0.92      0.90       544\n",
            "    negative       1.00      0.82      0.90       551\n",
            "        sick       0.88      0.90      0.89       551\n",
            "\n",
            "    accuracy                           0.91      2203\n",
            "   macro avg       0.91      0.91      0.91      2203\n",
            "weighted avg       0.91      0.91      0.91      2203\n",
            "\n"
          ]
        }
      ]
    },
    {
      "cell_type": "code",
      "source": [
        "import pandas as pd\n",
        "from sklearn.model_selection import train_test_split\n",
        "from sklearn.preprocessing import StandardScaler\n",
        "from sklearn.neighbors import KNeighborsClassifier\n",
        "from sklearn.metrics import accuracy_score, classification_report\n",
        "\n",
        "\n",
        "data = pd.read_csv('balanced_dataset.csv')\n",
        "\n",
        "columns = ['Age', 'TSH', 'T3', 'TT4', 'T4U', 'FTI', 'Sex_M', 'Sick_t',\n",
        "           'Pregnant_t', 'Thyroid Surgery_t', 'Goitre_t', 'Tumor_t']\n",
        "\n",
        "X = data[columns]\n",
        "y = data['Category']\n",
        "\n",
        "X_train, X_test, y_train, y_test = train_test_split(X, y, test_size=0.2, random_state=42)\n",
        "\n",
        "scaler = StandardScaler()\n",
        "X_train_scaled = scaler.fit_transform(X_train)\n",
        "X_test_scaled = scaler.transform(X_test)\n",
        "\n",
        "knn_model = KNeighborsClassifier(n_neighbors=5)\n",
        "knn_model.fit(X_train_scaled, y_train)\n",
        "\n",
        "y_pred = knn_model.predict(X_test_scaled)\n",
        "\n",
        "accuracy = accuracy_score(y_test, y_pred)\n",
        "print(\"Accuracy:\", accuracy)\n",
        "\n",
        "print(\"Classification Report:\")\n",
        "print(classification_report(y_test, y_pred))"
      ],
      "metadata": {
        "colab": {
          "base_uri": "https://localhost:8080/"
        },
        "id": "yyRLLYUKGzoT",
        "outputId": "8018a6f0-1e4d-4c7d-d7a9-ac4852fae6b4"
      },
      "execution_count": 38,
      "outputs": [
        {
          "output_type": "stream",
          "name": "stdout",
          "text": [
            "Accuracy: 0.8856105310939628\n",
            "Classification Report:\n",
            "              precision    recall  f1-score   support\n",
            "\n",
            "hyperthyroid       0.90      0.98      0.94       557\n",
            " hypothyroid       0.83      0.93      0.87       544\n",
            "    negative       1.00      0.72      0.84       551\n",
            "        sick       0.85      0.91      0.88       551\n",
            "\n",
            "    accuracy                           0.89      2203\n",
            "   macro avg       0.90      0.89      0.88      2203\n",
            "weighted avg       0.90      0.89      0.88      2203\n",
            "\n"
          ]
        }
      ]
    },
    {
      "cell_type": "code",
      "source": [
        "def predict_thyroid_disease(user_data):\n",
        "\n",
        "    data = pd.read_csv('balanced_dataset.csv')\n",
        "\n",
        "    columns = ['Age', 'TSH', 'T3', 'TT4', 'T4U', 'FTI', 'Sex_M', 'Sick_t',\n",
        "               'Pregnant_t', 'Thyroid Surgery_t', 'Goitre_t', 'Tumor_t']\n",
        "\n",
        "    X = data[columns]\n",
        "    y = data['Category']\n",
        "\n",
        "    # Training a Random Forest model\n",
        "    rf_model = RandomForestClassifier(random_state=42)\n",
        "    rf_model.fit(X, y)\n",
        "\n",
        "    # Predictig the type of thyroid for user_data\n",
        "    prediction = rf_model.predict(user_data)\n",
        "\n",
        "    return prediction\n",
        "\n",
        "user_data = {\n",
        "    'Age': 63,\n",
        "    'TSH': 0.03,\n",
        "    'T3': 5.5,\n",
        "    'TT4': 199,\n",
        "    'T4U': 1.05,\n",
        "    'FTI': 190,\n",
        "    'Sex_M': 0,\n",
        "    'Sick_t': 0,\n",
        "    'Pregnant_t': 0,\n",
        "    'Thyroid Surgery_t': 0,\n",
        "    'Goitre_t': 0,\n",
        "    'Tumor_t': 0\n",
        "}\n",
        "\n",
        "user_df = pd.DataFrame([user_data])\n",
        "\n",
        "prediction = predict_thyroid_disease(user_df)\n",
        "\n",
        "print(\"Predicted Type of Thyroid:\", prediction)"
      ],
      "metadata": {
        "colab": {
          "base_uri": "https://localhost:8080/"
        },
        "id": "hCm54IlSG5tn",
        "outputId": "abf987b1-6543-471f-be13-7b6c72448c6f"
      },
      "execution_count": 39,
      "outputs": [
        {
          "output_type": "stream",
          "name": "stdout",
          "text": [
            "Predicted Type of Thyroid: ['hyperthyroid']\n"
          ]
        }
      ]
    },
    {
      "cell_type": "code",
      "source": [
        "import pickle"
      ],
      "metadata": {
        "id": "THsjq-dyG_kQ"
      },
      "execution_count": 33,
      "outputs": []
    },
    {
      "cell_type": "code",
      "source": [
        "filename = 'thyroid_model.sav'\n",
        "pickle.dump(rf_model, open(filename, 'wb'))"
      ],
      "metadata": {
        "id": "8lIk3g10HAbm"
      },
      "execution_count": 34,
      "outputs": []
    },
    {
      "cell_type": "code",
      "source": [
        "# loading the saved model\n",
        "loaded_model = pickle.load(open('thyroid_model.sav', 'rb'))\n",
        "\n",
        "input_data = (63,0.03,5.5,199,1.05,190,0,0,0,0,0,0)\n",
        "input_data_as_numpy_array = np.asarray(input_data)\n",
        "\n",
        "input_data_reshaped = input_data_as_numpy_array.reshape(1,-1)\n",
        "\n",
        "prediction = loaded_model.predict(input_data_reshaped)\n",
        "print(prediction)\n"
      ],
      "metadata": {
        "colab": {
          "base_uri": "https://localhost:8080/"
        },
        "id": "zPep-R4xHEFp",
        "outputId": "6fabb733-fe3a-498a-d061-4d8da2c11ec5"
      },
      "execution_count": 40,
      "outputs": [
        {
          "output_type": "stream",
          "name": "stdout",
          "text": [
            "['hyperthyroid']\n"
          ]
        },
        {
          "output_type": "stream",
          "name": "stderr",
          "text": [
            "/usr/local/lib/python3.10/dist-packages/sklearn/base.py:439: UserWarning: X does not have valid feature names, but RandomForestClassifier was fitted with feature names\n",
            "  warnings.warn(\n"
          ]
        }
      ]
    }
  ]
}